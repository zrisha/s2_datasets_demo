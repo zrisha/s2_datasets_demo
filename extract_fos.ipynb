{
 "cells": [
  {
   "cell_type": "code",
   "execution_count": 1,
   "id": "6efdfee8-8230-4df6-89d6-2b0b34db0d61",
   "metadata": {},
   "outputs": [],
   "source": [
    "import json\n",
    "import os\n",
    "from dotenv import dotenv_values\n",
    "from collections import defaultdict"
   ]
  },
  {
   "cell_type": "code",
   "execution_count": 2,
   "id": "0c8a39d9-08e0-4034-9855-dd87463bbbcb",
   "metadata": {},
   "outputs": [],
   "source": [
    "# Environment variables in a .env file\n",
    "# S2_API_KEY - For api access to dataset links\n",
    "# DATA_DIR - directory to download data to (e.g. external harddrive)\n",
    "config = dotenv_values()"
   ]
  },
  {
   "cell_type": "markdown",
   "id": "4d20ebd7-98f7-4d6f-ae12-9db1a88e78cd",
   "metadata": {},
   "source": [
    "### Extract field of study from papers "
   ]
  },
  {
   "cell_type": "code",
   "execution_count": null,
   "id": "d0c3bdf9-0996-43bb-ad65-69f960e1461b",
   "metadata": {},
   "outputs": [],
   "source": [
    "papers_dir = config['DATA_DIR'] + 'papers'\n",
    "#Loop through 30 files\n",
    "for filename in os.listdir(papers_dir):\n",
    "    print(filename)\n",
    "    #for storing multiple fields\n",
    "    paper_fields = defaultdict(list)\n",
    "    with open(papers_dir + '/' +  filename) as f:\n",
    "        for i, l in enumerate(f):\n",
    "            if(i % 100000 == 0):\n",
    "                print(\".\", end=\"\", flush=True)\n",
    "            paper = json.loads(l)\n",
    "            if(paper['s2fieldsofstudy']):\n",
    "                for field in paper['s2fieldsofstudy']:\n",
    "                    if(field['source'] == 's2-fos-model'):\n",
    "                        paper_fields[paper['corpusid']].append(field['category'])\n",
    "        print('')\n",
    "        #Dump dict of paper and associated fields\n",
    "        with open(config['DATA_DIR'] + 'paper_field/' + filename + '.json', \"w\") as outfile:\n",
    "            json.dump(paper_fields, outfile)"
   ]
  }
 ],
 "metadata": {
  "kernelspec": {
   "display_name": "Python 3 (ipykernel)",
   "language": "python",
   "name": "python3"
  },
  "language_info": {
   "codemirror_mode": {
    "name": "ipython",
    "version": 3
   },
   "file_extension": ".py",
   "mimetype": "text/x-python",
   "name": "python",
   "nbconvert_exporter": "python",
   "pygments_lexer": "ipython3",
   "version": "3.9.16"
  }
 },
 "nbformat": 4,
 "nbformat_minor": 5
}
