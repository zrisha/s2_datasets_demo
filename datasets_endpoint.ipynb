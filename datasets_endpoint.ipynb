{
 "cells": [
  {
   "cell_type": "code",
   "execution_count": 2,
   "id": "b1d9148c-9b27-4ab1-bba2-3dfe125b8c8c",
   "metadata": {},
   "outputs": [],
   "source": [
    "import requests\n",
    "from urllib.parse import urlparse\n",
    "import urllib.request\n",
    "import json\n",
    "from dotenv import dotenv_values"
   ]
  },
  {
   "cell_type": "code",
   "execution_count": 3,
   "id": "c88fd27c-5010-40cd-9e07-4152ce04fadd",
   "metadata": {},
   "outputs": [],
   "source": [
    "# Environment variables in a .env file\n",
    "# S2_API_KEY - For api access to dataset links\n",
    "# DATA_DIR - directory to download data to (e.g. external harddrive)\n",
    "config = dotenv_values()"
   ]
  },
  {
   "cell_type": "markdown",
   "id": "46ebcc0b-92d9-4a94-a7ff-f28784d3fc50",
   "metadata": {},
   "source": [
    "### Get info on the various datasets"
   ]
  },
  {
   "cell_type": "code",
   "execution_count": 4,
   "id": "e79db20d-d50b-4edb-b0ed-6e9c96dae06e",
   "metadata": {},
   "outputs": [],
   "source": [
    "res_datasets = requests.get('https://api.semanticscholar.org/datasets/v1/release/latest')"
   ]
  },
  {
   "cell_type": "code",
   "execution_count": 5,
   "id": "a79d7494-91b8-4467-a3f2-0db66f4cebb1",
   "metadata": {},
   "outputs": [
    {
     "name": "stdout",
     "output_type": "stream",
     "text": [
      "abstracts\n",
      "Paper abstract text, where available.\n",
      "100M records in 30 1.8GB files.\n",
      "----------------------\n",
      "authors\n",
      "The core attributes of an author (name, affiliation, paper count, etc.). Authors have an \"authorId\" field, which can be joined to the \"authorId\" field of the members of a paper's \"authors\" field.\n",
      "75M records in 30 100MB files.\n",
      "----------------------\n",
      "citations\n",
      "Instances where the bibliography of one paper (the \"citingPaper\") mentions another paper (the \"citedPaper\"), where both papers are identified by the \"paperId\" field. Citations have attributes of their own, (influential classification, intent classification, and citation context).\n",
      "2.4B records in 30 8.5GB files.\n",
      "----------------------\n",
      "embeddings\n",
      "A dense vector embedding representing the contents of the paper.\n",
      "120M records in 30 28GB files.\n",
      "----------------------\n",
      "paper-ids\n",
      "Mapping from sha-based ID to paper corpus ID.\n",
      "450M records in 30 500MB files\n",
      "----------------------\n",
      "papers\n",
      "The core attributes of a paper (title, authors, date, etc.).\n",
      "200M records in 30 1.5GB files.\n",
      "----------------------\n",
      "publication-venues\n",
      "Details about the venues in which papers are published.\n",
      "----------------------\n",
      "s2orc\n",
      "Full-body paper text parsed from open-access PDFs. Identifies structural elements such as paragraphs, sections, and bibliography entries.\n",
      "5M records in 30 4GB files.\n",
      "----------------------\n",
      "tldrs\n",
      "A short natural-language summary of the contents of a paper.\n",
      "58M records in 30 200MB files.\n",
      "----------------------\n"
     ]
    }
   ],
   "source": [
    "for dataset in res_datasets.json()['datasets']:\n",
    "    print(dataset['name'])\n",
    "    print(dataset['description'])\n",
    "    print('----------------------')"
   ]
  },
  {
   "cell_type": "markdown",
   "id": "31ea573f-bc29-45f1-bd16-13222cbee522",
   "metadata": {},
   "source": [
    "### Get download links for papers"
   ]
  },
  {
   "cell_type": "code",
   "execution_count": 6,
   "id": "9e820da2-8ec8-4e03-a1bd-6fcf1e0b257e",
   "metadata": {},
   "outputs": [],
   "source": [
    "headers = {\n",
    "    'x-api-key': config['S2_API_KEY']\n",
    "}"
   ]
  },
  {
   "cell_type": "code",
   "execution_count": 7,
   "id": "8444acdf-656c-46ff-85db-255e8e6f8498",
   "metadata": {},
   "outputs": [],
   "source": [
    "res_papers = requests.get('https://api.semanticscholar.org/datasets/v1/release/latest/dataset/papers', headers=headers)"
   ]
  },
  {
   "cell_type": "markdown",
   "id": "2ebded65-55f5-4b4a-aaa5-9ada53b1fda7",
   "metadata": {},
   "source": [
    "### Download all files"
   ]
  },
  {
   "cell_type": "code",
   "execution_count": 10,
   "id": "0eaabf1a-ae44-4928-99ce-340d8ec4a58a",
   "metadata": {},
   "outputs": [
    {
     "name": "stdout",
     "output_type": "stream",
     "text": [
      "0-20230804_070310_00012_kr7cr_07dff03f-3fdb-40f4-b729-3fc954d82738.gz\n",
      "1-20230804_070310_00012_kr7cr_10932806-30dc-445e-a2e7-ac7cfbc23dd4.gz\n",
      "2-20230804_070310_00012_kr7cr_12114a8a-03a7-4c10-a1c4-42b6ae1c5839.gz\n",
      "3-20230804_070310_00012_kr7cr_12def696-4de5-438e-9784-fa83fee96b8d.gz\n",
      "4-20230804_070310_00012_kr7cr_14cb4a81-b587-41f7-b656-c43846057864.gz\n",
      "5-20230804_070310_00012_kr7cr_1856420b-7d30-47e3-bfd5-51e552680403.gz\n",
      "6-20230804_070310_00012_kr7cr_1dc79604-f7d8-4e5b-b553-ff3ccb79aea9.gz\n",
      "7-20230804_070310_00012_kr7cr_1ea12c4e-0ce8-4d7f-a27a-0d16609d9b44.gz\n",
      "8-20230804_070310_00012_kr7cr_20a44ff7-fb15-4daf-84bc-06cc1c412ff6.gz\n",
      "9-20230804_070310_00012_kr7cr_3323dd31-9e7b-448e-8592-0ba78e793cea.gz\n",
      "10-20230804_070310_00012_kr7cr_3919a642-52a1-4139-a501-00fc7555dcc6.gz\n",
      "11-20230804_070310_00012_kr7cr_3f0e7bce-6e75-4658-b52c-dc51a4652934.gz\n",
      "12-20230804_070310_00012_kr7cr_4352662c-54fe-48d5-82e2-868be584ea4f.gz\n",
      "13-20230804_070310_00012_kr7cr_43b9221e-b83a-4dc9-87fd-aa7f238c0c42.gz\n",
      "14-20230804_070310_00012_kr7cr_48ad96ae-ccb1-4e33-8dd4-e76d21a41550.gz\n",
      "15-20230804_070310_00012_kr7cr_48b4cf9d-29f1-4d23-822e-3ae01314a1c5.gz\n",
      "16-20230804_070310_00012_kr7cr_4a74c5bb-6728-4c8c-a61f-8fe287939bc7.gz\n",
      "17-20230804_070310_00012_kr7cr_55b3feb6-b3a6-4dc7-9881-27e50f92711f.gz\n",
      "18-20230804_070310_00012_kr7cr_5ad61b1b-a344-49d3-bd56-867d169d4140.gz\n",
      "19-20230804_070310_00012_kr7cr_68ce1de8-1b5e-4ca0-b59f-23e1c4fc0bc2.gz\n",
      "20-20230804_070310_00012_kr7cr_6f02b41f-9fde-483d-9b64-8a30f37a71a9.gz\n",
      "21-20230804_070310_00012_kr7cr_8498260e-1f07-4fb9-86e3-7576417126f2.gz\n",
      "22-20230804_070310_00012_kr7cr_96383ed8-4a8b-41bd-b1a6-9e6cd5625a0b.gz\n",
      "23-20230804_070310_00012_kr7cr_97dc1075-a2a1-4bc4-92e8-693280d09c0b.gz\n",
      "24-20230804_070310_00012_kr7cr_a32af01e-5851-4a0e-a1ab-b9a1aecf0baf.gz\n",
      "25-20230804_070310_00012_kr7cr_af919bdb-20a7-4034-88f9-9dada63d586c.gz\n",
      "26-20230804_070310_00012_kr7cr_afabb875-727e-411f-833d-934c0bf350a2.gz\n",
      "27-20230804_070310_00012_kr7cr_c7c74f11-d140-47ef-aa5a-818c3e2bf1d4.gz\n",
      "28-20230804_070310_00012_kr7cr_e0a13033-91a6-4262-9b98-56d538cf2e5c.gz\n",
      "29-20230804_070310_00012_kr7cr_f7075758-3231-4eab-8dc6-b8bf8022dfd3.gz\n"
     ]
    }
   ],
   "source": [
    "for i, file in enumerate(res_papers.json()['files']):\n",
    "    url = urlparse(file)\n",
    "    filename = url.path.split('/')[-1]\n",
    "    ### formats a string for where to download file to\n",
    "    target = f'{config[\"DATA_DIR\"]}papers/{i}-{filename}'\n",
    "    urllib.request.urlretrieve(file, filename=target)\n",
    "    print(f'{i}-{filename}')"
   ]
  },
  {
   "cell_type": "code",
   "execution_count": null,
   "id": "0407ae80-201a-4ae4-ba36-af82dc5e2d62",
   "metadata": {},
   "outputs": [],
   "source": []
  }
 ],
 "metadata": {
  "kernelspec": {
   "display_name": "Python 3 (ipykernel)",
   "language": "python",
   "name": "python3"
  },
  "language_info": {
   "codemirror_mode": {
    "name": "ipython",
    "version": 3
   },
   "file_extension": ".py",
   "mimetype": "text/x-python",
   "name": "python",
   "nbconvert_exporter": "python",
   "pygments_lexer": "ipython3",
   "version": "3.9.16"
  }
 },
 "nbformat": 4,
 "nbformat_minor": 5
}
