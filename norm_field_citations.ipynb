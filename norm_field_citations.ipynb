{
 "cells": [
  {
   "cell_type": "code",
   "execution_count": 18,
   "id": "ad0c0546-a54d-4350-9cf4-de2d2056c8ee",
   "metadata": {},
   "outputs": [],
   "source": [
    "import json\n",
    "from collections import defaultdict\n",
    "from dotenv import dotenv_values"
   ]
  },
  {
   "cell_type": "code",
   "execution_count": 3,
   "id": "f19493c0-e915-4064-bf44-33769d23e47b",
   "metadata": {},
   "outputs": [],
   "source": [
    "# Environment variables in a .env file\n",
    "# S2_API_KEY - For api access to dataset links\n",
    "# DATA_DIR - directory to download data to (e.g. external harddrive)\n",
    "config = dotenv_values()"
   ]
  },
  {
   "cell_type": "code",
   "execution_count": 6,
   "id": "121e8334-77b6-4c71-a6fc-fdf3e967a53d",
   "metadata": {},
   "outputs": [],
   "source": [
    "with open(config['DATA_DIR'] + 'field_cites.json', 'r') as f:\n",
    "    field_cites_field = json.load(f)"
   ]
  },
  {
   "cell_type": "code",
   "execution_count": 8,
   "id": "d9e39668-756c-4fa5-9984-6e631ebbaf35",
   "metadata": {},
   "outputs": [],
   "source": [
    "citations = 0\n",
    "for field in field_cites_field:\n",
    "    for cited_field in field_cites_field[field]:\n",
    "        citations += field_cites_field[field][cited_field]"
   ]
  },
  {
   "cell_type": "code",
   "execution_count": 10,
   "id": "dda18e33-e160-48e4-83c3-ebd1ef988998",
   "metadata": {},
   "outputs": [],
   "source": [
    "field_cites_norm = {}\n",
    "for citing in field_cites_field:  \n",
    "    n = sum(field_cites_field[citing].values())\n",
    "    field_cites_norm[citing] = {x:int(field_cites_field[citing][x])/n for x in field_cites_field[citing]}"
   ]
  },
  {
   "cell_type": "code",
   "execution_count": 30,
   "id": "a7ea20cc-b1b9-4687-a3ce-5a6fefb1f873",
   "metadata": {},
   "outputs": [],
   "source": [
    "with open(config['DATA_DIR'] + 'field_cites_field_norm.json', 'w') as f_out:\n",
    "    json.dump(field_cites_norm, f_out, indent=0)"
   ]
  },
  {
   "cell_type": "code",
   "execution_count": 19,
   "id": "52e41737-d3a9-4989-907b-9363fe053522",
   "metadata": {},
   "outputs": [],
   "source": [
    "field_cited_by = defaultdict(dict)\n",
    "for citing in field_cites_field:\n",
    "    for cited in field_cites_field[citing]:\n",
    "        field_cited_by[cited][citing] = field_cites_field[citing][cited]"
   ]
  },
  {
   "cell_type": "code",
   "execution_count": 25,
   "id": "a839fa12-d16e-408c-831e-751b8eebde7b",
   "metadata": {},
   "outputs": [],
   "source": [
    "field_cited_by_norm = {}\n",
    "for citing in field_cited_by:  \n",
    "    n = sum(field_cited_by[citing].values())\n",
    "    field_cited_by_norm[citing] = {x:int(field_cited_by[citing][x])/n for x in field_cited_by[citing]}"
   ]
  },
  {
   "cell_type": "code",
   "execution_count": 31,
   "id": "b50e57e3-5c43-496d-b208-57587eba6aee",
   "metadata": {},
   "outputs": [],
   "source": [
    "with open(config['DATA_DIR'] + 'field_cited_by_field_norm.json', 'w') as f_out:\n",
    "    json.dump(field_cited_by_norm, f_out, indent=0)"
   ]
  },
  {
   "cell_type": "code",
   "execution_count": null,
   "id": "d734cde4-771a-4c65-8a24-742743391d6d",
   "metadata": {},
   "outputs": [],
   "source": []
  }
 ],
 "metadata": {
  "kernelspec": {
   "display_name": "Python 3 (ipykernel)",
   "language": "python",
   "name": "python3"
  },
  "language_info": {
   "codemirror_mode": {
    "name": "ipython",
    "version": 3
   },
   "file_extension": ".py",
   "mimetype": "text/x-python",
   "name": "python",
   "nbconvert_exporter": "python",
   "pygments_lexer": "ipython3",
   "version": "3.9.16"
  }
 },
 "nbformat": 4,
 "nbformat_minor": 5
}
